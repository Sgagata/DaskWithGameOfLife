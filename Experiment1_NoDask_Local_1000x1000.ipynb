{
 "cells": [
  {
   "cell_type": "code",
   "execution_count": 1,
   "id": "031569de-25ad-4482-9192-fc96373f05fc",
   "metadata": {},
   "outputs": [],
   "source": [
    "import numpy as np\n",
    "from matplotlib import pyplot as plt\n",
    "import matplotlib.animation as animation\n",
    "import scipy.signal"
   ]
  },
  {
   "cell_type": "code",
   "execution_count": 29,
   "id": "bb350092-9b54-49c7-9ac0-93cd27ecca1a",
   "metadata": {},
   "outputs": [],
   "source": [
    "class GameOfLife:\n",
    "    def __init__(self, shape=(3, 3)):\n",
    "        self.shape = shape\n",
    "        self.state = np.zeros(self.shape, dtype=int)\n",
    "        self.kernel = np.ones((3, 3), dtype=int)\n",
    "        self.kernel[1, 1] = 0\n",
    "\n",
    "    def load_grid_from_file(self, input_file):\n",
    "        with open(input_file, \"r\") as f:\n",
    "            width, height = map(int, f.readline().split())\n",
    "            self.shape = (height, width)\n",
    "            self.state = np.zeros(self.shape, dtype=bool)\n",
    "\n",
    "            for line in f:\n",
    "                value = line.split()\n",
    "                if len(value) >= 2:\n",
    "                    y, x = map(int, value[:2])\n",
    "                    if 0 <= y < height and 0 <= x < width:\n",
    "                        self.state[y, x] = 1\n",
    "                else:\n",
    "                    print(\"Line doesn't contain two values, check for floating lines at the bottom of the file\")\n",
    "\n",
    "    def update_state(self):\n",
    "        conv_state = scipy.signal.convolve2d(self.state, self.kernel, mode=\"same\")\n",
    "        temp_state = np.zeros(shape=self.shape)\n",
    "        temp_state[(conv_state < 2) | (conv_state > 3)] = 0\n",
    "        temp_state[((conv_state == 2) | (conv_state == 3)) & (self.state == 1)] = 1\n",
    "        temp_state[conv_state == 3] = 1\n",
    "        self.state = temp_state\n",
    "\n",
    "    def plot_state(self):\n",
    "        return plt.imshow(self.state)\n",
    "\n",
    "    def _animate(self, _):\n",
    "        self.update_state()\n",
    "        self.ax.clear()\n",
    "        self.ax.imshow(self.state)\n",
    "        self.ax.set(xticklabels=[], yticklabels=[])\n",
    "        self.ax.tick_params(bottom=False, left=False)\n",
    "\n",
    "    def animate(self, filename):\n",
    "        self.fig, self.ax = plt.subplots(figsize=(12, 12), dpi=self.shape[0])\n",
    "        ani = animation.FuncAnimation(self.fig, self._animate, frames=20, interval=10)\n",
    "        ani.save(filename)\n",
    "        return ani\n",
    "    def save_state_to_file(self, output_file):\n",
    "        with open(output_name, \"w\") as f:\n",
    "            f.write(f\"{game.shape[1]} {game.shape[0]}\\n\")\n",
    "            for y in range(game.shape[0]):\n",
    "                for x in range(game.shape[1]):\n",
    "                    if game.state[y, x] == 1:\n",
    "                        f.write(f\"{y} {x}\\n\")\n",
    "\n",
    "def run_game_no_dask(input_name, output_name, generations):\n",
    "    game = GameOfLife()\n",
    "    game.load_grid_from_file(input_name)\n",
    "\n",
    "    for _ in range(generations):\n",
    "        game.update_state()\n",
    "    game.save_state_to_file(output_name)"
   ]
  },
  {
   "cell_type": "code",
   "execution_count": 30,
   "id": "ed94316f-35b9-4267-9deb-bc002f9cee35",
   "metadata": {},
   "outputs": [],
   "source": [
    "if __name__ == \"__main__\":\n",
    "    input_name = \"./Data/1000x1000_0.1.txt\"\n",
    "    output_name = \"Output_Files/output_1000x1000.txt\"\n",
    "    generations = 3\n",
    "\n",
    "    game = GameOfLife()\n",
    "    game.load_grid_from_file(input_name)\n",
    "    game.save_state_to_file(output_name)\n",
    "\n",
    "    Create an animation and save it to a GIF file\n",
    "    game.animate(\"output_1000x1000_0.1.gif\")\n",
    "\n",
    "    plt.show()"
   ]
  },
  {
   "cell_type": "code",
   "execution_count": null,
   "id": "cce09f4e-318c-4128-b02a-057f6ba0434a",
   "metadata": {},
   "outputs": [],
   "source": []
  }
 ],
 "metadata": {
  "kernelspec": {
   "display_name": "Python 3 (ipykernel)",
   "language": "python",
   "name": "python3"
  },
  "language_info": {
   "codemirror_mode": {
    "name": "ipython",
    "version": 3
   },
   "file_extension": ".py",
   "mimetype": "text/x-python",
   "name": "python",
   "nbconvert_exporter": "python",
   "pygments_lexer": "ipython3",
   "version": "3.11.5"
  }
 },
 "nbformat": 4,
 "nbformat_minor": 5
}
