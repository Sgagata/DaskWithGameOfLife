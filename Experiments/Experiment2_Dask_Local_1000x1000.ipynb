{
 "cells": [
  {
   "cell_type": "code",
   "execution_count": null,
   "id": "f6b81148-34d2-431b-9b81-bf35e9d85cb5",
   "metadata": {},
   "outputs": [],
   "source": [
    "import scipy.signal\n",
    "import numpy as np\n",
    "import dask\n",
    "import dask.array as da\n",
    "from dask.distributed import Client"
   ]
  },
  {
   "cell_type": "code",
   "execution_count": null,
   "id": "d3385615-c692-4eec-8b89-2038aab5e945",
   "metadata": {},
   "outputs": [],
   "source": [
    "from dask.distributed import Client\n",
    "if __name__ == \"__main__\":\n",
    "    client = Client()"
   ]
  },
  {
   "cell_type": "code",
   "execution_count": null,
   "id": "097a6c95-806f-497f-bd77-32ffc214081d",
   "metadata": {},
   "outputs": [],
   "source": [
    "class GameOfLife:\n",
    "    def __init__(self, shape=(3, 3)):\n",
    "        # Initialize the GameofLife instance\n",
    "        self.shape = shape\n",
    "        self.kernel = np.array([[1, 1, 1], [1, 0, 1], [1, 1, 1]], dtype=int)\n",
    "        self.state = np.zeros(self.shape, dtype=bool)\n",
    "\n",
    "    def load_grid_from_file(self, input_file):\n",
    "        # Load the initial state from a text file\n",
    "        with open(input_file, \"r\") as f:\n",
    "            width, height = map(int, f.readline().split())\n",
    "            self.shape = (height, width)\n",
    "            self.state = np.zeros(self.shape, dtype=bool)\n",
    "            for line in f:\n",
    "                value = line.split()\n",
    "                if len(value) >= 2:\n",
    "                    y, x = map(int, value[:2])\n",
    "                    if 0 <= y < height and 0 <= x < width:\n",
    "                        self.state[y, x] = 1\n",
    "        return self.state\n",
    "\n",
    "    def update_state(self, state):\n",
    "        # Update the state for the next generation using Conway's Game of Life rules\n",
    "        conv_state = scipy.signal.convolve2d(state, self.kernel, mode=\"same\")\n",
    "        temp_state = np.zeros_like(state)\n",
    "        temp_state[(conv_state < 2) | (conv_state > 3)] = 0\n",
    "        temp_state[((conv_state == 2) | (conv_state == 3)) & (state == 1)] = 1\n",
    "        temp_state[conv_state == 3] = 1\n",
    "        return temp_state\n",
    "\n",
    "    def save_state_to_file(self, output_file, state):\n",
    "        # Save the current state to a text file\n",
    "        with open(output_file, \"w\") as f:\n",
    "            f.write(f\"{state.shape[1]} {state.shape[0]}\\n\")\n",
    "            for y in range(state.shape[0]):\n",
    "                for x in range(state.shape[1]):\n",
    "                    if state[y, x] == 1:\n",
    "                        f.write(f\"{y} {x}\\n\")\n",
    "        return True  # Indicate success\n",
    "\n",
    "\n",
    "def run_game(input_name, output_name, generations, chunksize):\n",
    "    # Load the grid from the file\n",
    "    game = GameOfLife()\n",
    "    game.load_grid_from_file(input_name)\n",
    "    grid_dask = da.from_array(game.state, chunks=(chunksize[0], chunksize[1]))\n",
    "    for _ in range(generations):\n",
    "        grid_dask = grid_dask.map_overlap(game.update_state, depth=1, boundary=\"none\")\n",
    "    grid = grid_dask.compute()\n",
    "\n",
    "    game.save_state_to_file(output_name, grid)\n",
    "    return grid"
   ]
  },
  {
   "cell_type": "code",
   "execution_count": null,
   "id": "80ba6872-c440-40fc-9d1a-d49acfcb1a54",
   "metadata": {},
   "outputs": [],
   "source": [
    "dask.config.set(scheduler='processes')\n",
    "if __name__ == \"__main__\":\n",
    "    input_name = \"../Data/input.txt\"\n",
    "    output_name = \"../Output_Files/New_Dask_output.txt\"\n",
    "    generations = 1\n",
    "    chunksize = (500, 500)\n",
    "    grid = run_game(input_name, output_name, generations, chunksize)\n",
    "client.shutdown()\n",
    "print(grid)"
   ]
  }
 ],
 "metadata": {
  "kernelspec": {
   "display_name": "Python 3 (ipykernel)",
   "language": "python",
   "name": "python3"
  },
  "language_info": {
   "codemirror_mode": {
    "name": "ipython",
    "version": 3
   },
   "file_extension": ".py",
   "mimetype": "text/x-python",
   "name": "python",
   "nbconvert_exporter": "python",
   "pygments_lexer": "ipython3",
   "version": "3.9.18"
  }
 },
 "nbformat": 4,
 "nbformat_minor": 5
}
