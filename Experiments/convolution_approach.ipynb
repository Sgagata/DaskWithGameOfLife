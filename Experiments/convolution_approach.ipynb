{
 "cells": [
  {
   "cell_type": "code",
   "execution_count": null,
   "id": "a1d9df94-cefd-4412-bbeb-a9df0a479f2b",
   "metadata": {},
   "outputs": [],
   "source": [
    "import dask\n",
    "import matplotlib.pyplot as plt\n",
    "import numpy as np\n",
    "from dask.distributed import Client\n",
    "from dask import delayed\n",
    "import dask.multiprocessing\n",
    "import dask.array as da\n",
    "import time\n",
    "from scipy.ndimage import convolve"
   ]
  },
  {
   "cell_type": "code",
   "execution_count": null,
   "id": "6569b5e8-c4be-4361-b3be-2082e1f9642d",
   "metadata": {},
   "outputs": [],
   "source": [
    "# using standard dask clienk\n",
    "dask.config.set(scheduler='processes')\n",
    "client = Client()\n",
    "client\n"
   ]
  },
  {
   "cell_type": "code",
   "execution_count": null,
   "id": "ee8cc2d3-a278-4172-8489-fb2f3e0e4e00",
   "metadata": {},
   "outputs": [],
   "source": [
    "def read_info_from_file(input_file):\n",
    "    # initialize board\n",
    "    with open(input_file) as f:\n",
    "        w, h = [int(x) for x in next(f).split()]\n",
    "        # use the smallest data type\n",
    "        board = np.zeros((w, h),dtype=np.uint8)\n",
    "        for line_count, line in enumerate(f, start=0):\n",
    "            single_numbers = line.split()\n",
    "            x, y = map(int, single_numbers[:2])\n",
    "            board[x][y] = 1\n",
    "        dask_board = da.from_array(board, chunks=(chunk_size, chunk_size))\n",
    "    return dask_board"
   ]
  },
  {
   "cell_type": "code",
   "execution_count": null,
   "id": "9e0bdb56-b51f-4f35-83f1-a5f20c1ddfd2",
   "metadata": {},
   "outputs": [],
   "source": [
    "# set the variables\n",
    "chunk_size = 100\n",
    "iterations = 1\n",
    "overlap = 1\n",
    "\n",
    "input_file = 'Data/input.txt'\n",
    "#initialize \n",
    "board = read_info_from_file(input_file)\n",
    "\n",
    "#make a mask for counting the live neighbours\n",
    "mask = da.ones((3,3))\n",
    "#get rid from the middle\n",
    "mask[1, 1] = 0"
   ]
  },
  {
   "cell_type": "code",
   "execution_count": null,
   "id": "17a2386c-8534-4238-8a5f-f27dbaaebf3c",
   "metadata": {},
   "outputs": [],
   "source": [
    "def process_cell(board_chunk, block_id=None):\n",
    "    width, height = board_chunk.shape\n",
    "    #based on the index of chunks\n",
    "    start_width = block_id[0] * width\n",
    "    start_height = block_id[1] * height\n",
    "    board_slice = board[start_width:(start_width + width), start_height:(start_height + height)].compute()\n",
    "\n",
    "    # Apply the rules of the game.\n",
    "    board_chunk[np.logical_or(board_chunk < 2, board_chunk > 3)] = 0\n",
    "    board_chunk[board_chunk == 3] = 1\n",
    "    # cell with two neighbours stay the same\n",
    "    board_chunk[board_chunk == 2] = board_slice[board_chunk == 2]\n",
    "    return board_chunk\n",
    "\n",
    "def prepare_next_board(steps, board, mask):\n",
    "    for _ in range(steps):\n",
    "        # use the convolution\n",
    "        num_live_neighbors = board.map_overlap(convolve, depth=1, boundary='none', \n",
    "                                                    weights=mask, mode='constant', cval=0)\n",
    "        board = num_live_neighbors.map_blocks(process_cell, dtype=np.uint8)\n",
    "\n",
    "    return board\n",
    "\n",
    "\n"
   ]
  },
  {
   "cell_type": "code",
   "execution_count": null,
   "id": "b3621e78-febf-4f40-a67c-8c9feedf393b",
   "metadata": {},
   "outputs": [],
   "source": [
    "import warnings\n",
    "\n",
    "# Suppress Bokeh warnings\n",
    "warnings.filterwarnings('ignore', category=UserWarning)\n",
    "\n",
    "final_board = prepare_next_board(iterations, board, mask)\n",
    "\n",
    "final_result = final_board.compute()\n",
    "print(final_result)"
   ]
  },
  {
   "cell_type": "markdown",
   "id": "e9692ccf-1ed1-47dd-9521-e1a441234a2e",
   "metadata": {},
   "source": [
    "Write to the text file"
   ]
  },
  {
   "cell_type": "code",
   "execution_count": null,
   "id": "6213a67f-cd0c-456d-8f5f-b7621ba103d2",
   "metadata": {},
   "outputs": [],
   "source": [
    "def write_output_file(output, board):\n",
    "    w = board.shape[0]\n",
    "    h = board.shape[1]\n",
    "    live_cells = []\n",
    "    for r in range(w):\n",
    "        for c in range(h):\n",
    "            if board[r][c] == 1:\n",
    "                live_cells.append([r, c])\n",
    "    f = open(output, \"w\")\n",
    "    f.write(str(w)+ \" \"+ str(h)+\"\\n\")\n",
    "    for cell in live_cells:\n",
    "        f.write(str(cell[0])+ \" \"+ str(cell[1])+ \"\\n\")\n",
    "    f.close()"
   ]
  },
  {
   "cell_type": "code",
   "execution_count": null,
   "id": "754aa321-4cc9-4c31-b032-ac46bb25451b",
   "metadata": {},
   "outputs": [],
   "source": [
    "output = input_file.split('/')[-1]\n",
    "write_output_file('Output_Files/' + output, final_result)"
   ]
  },
  {
   "cell_type": "code",
   "execution_count": null,
   "id": "09f07574-f0eb-4ef3-bfe1-d24dcc0d4bf9",
   "metadata": {},
   "outputs": [],
   "source": [
    "client.shutdown()"
   ]
  }
 ],
 "metadata": {
  "kernelspec": {
   "display_name": "Python 3 (ipykernel)",
   "language": "python",
   "name": "python3"
  },
  "language_info": {
   "codemirror_mode": {
    "name": "ipython",
    "version": 3
   },
   "file_extension": ".py",
   "mimetype": "text/x-python",
   "name": "python",
   "nbconvert_exporter": "python",
   "pygments_lexer": "ipython3",
   "version": "3.9.18"
  }
 },
 "nbformat": 4,
 "nbformat_minor": 5
}
