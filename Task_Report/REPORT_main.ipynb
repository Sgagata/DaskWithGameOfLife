{
 "cells": [
  {
   "cell_type": "markdown",
   "id": "26753c9c-7acc-4c26-a2b7-1aeacbd80460",
   "metadata": {},
   "source": [
    "## Game of life represenation using dask"
   ]
  },
  {
   "cell_type": "markdown",
   "id": "303e7c50-cb38-49f8-8712-d006b457db06",
   "metadata": {},
   "source": [
    "This assignment used the initial, synchronous implementation of the game of life from one of the earlier tutorials as a base. The code was adapted for dask, and the result was analysed between various parameters and computation methods. The data used for the analysis comes from the files 1000x1000.0.1 and 10000x10000.0.2. "
   ]
  },
  {
   "cell_type": "markdown",
   "id": "8144d50d-ea36-4bfd-8fe0-a121ee603278",
   "metadata": {},
   "source": [
    "**Basic implemenation**  \n",
    "The basic implementation can be found in code/game.py. The implementation of the game logic is in the block below, and the helper functions for reading from the file, writing from file and getting the arguments are in the appendix."
   ]
  },
  {
   "cell_type": "code",
   "execution_count": null,
   "id": "c62c1411-94c2-4cda-b3e4-0d5f3db744c3",
   "metadata": {},
   "outputs": [],
   "source": [
    "def neighbors_number(board, row, col):\n",
    "    # add plus two to create a proper iteration\n",
    "    neighbors = board[max(0, row-1):min(board.shape[0], row+2), max(0, col-1):min(board.shape[1], col+2)]\n",
    "    return np.sum(neighbors) - board[row, col]\n",
    "\n",
    "def play_game(board, iterations):\n",
    "    for i in range(iterations):\n",
    "        new_board = board.copy()\n",
    "        for r in range(board.shape[0]):\n",
    "            for c in range(board.shape[1]):\n",
    "                #for dead cell\n",
    "                if board[r][c] == 0 and neighbors_number(board, r, c) == 3:\n",
    "                    new_board[r][c] = 1\n",
    "                #for alive cell\n",
    "                if board[r][c] == 1 and (neighbors_number(board, r, c) < 2 or neighbors_number(board, r, c) > 3):\n",
    "                    new_board[r][c] = 0\n",
    "        board = new_board\n",
    "        print(board)\n",
    "    return board"
   ]
  },
  {
   "cell_type": "markdown",
   "id": "102034de-29db-450d-9e66-b2fb80f92673",
   "metadata": {},
   "source": [
    "For the dask implementation, the board that is being passed to play_game is already a dask array, and the type of the data in it is the uint8 - the smallest data type (to reduce the size of the grid in the memory) and the rest of the implementation is as follows:"
   ]
  },
  {
   "cell_type": "code",
   "execution_count": null,
   "id": "ad4ebc57-acaf-47b6-b36e-5cff5bbf9c11",
   "metadata": {},
   "outputs": [],
   "source": [
    "def neighbors_number(board, row, col):\n",
    "    # add plus two to create a proper iteration\n",
    "    neighbors = board[max(0, row-1):min(board.shape[0], row+2), max(0, col-1):min(board.shape[1], col+2)]\n",
    "    return np.sum(neighbors) - board[row, col]\n",
    "\n",
    "def tick(board):\n",
    "    # the .copy from the original code takes a lot of space change to empty array\n",
    "    w, h = board.shape\n",
    "    new_board = np.zeros((w, h),dtype=np.uint8)\n",
    "    for r in range(w):\n",
    "        for c in range(h):\n",
    "            #for dead cell\n",
    "            if board[r][c] == 0 and neighbors_number(board, r, c) == 3:\n",
    "                new_board[r][c] = 1\n",
    "            #for alive cell\n",
    "            if board[r][c] == 1 and (neighbors_number(board, r, c) < 2 or neighbors_number(board, r, c) > 3):\n",
    "                new_board[r][c] = 0\n",
    "    return new_board\n",
    "\n",
    "def play_game(dask_board, iterations):\n",
    "    for i in range(iterations):\n",
    "        dask_board = dask_board.map_overlap(tick, depth=1, boundary='none')\n",
    "    final_board = dask_board.compute()\n",
    "    return final_board"
   ]
  },
  {
   "cell_type": "markdown",
   "id": "98e17598-403a-4305-ac38-366105da4e23",
   "metadata": {},
   "source": [
    "**Parameters analysis**  \n",
    "\n",
    "_note: the programs are only time for how long it takes to do one iteration; the read and write functions are excluded from the total time_  \n",
    "\n",
    "_note2:The initial test are done for 100 chunks_  \n",
    "\n",
    "The default dask client was first run with  'processes' and then 'threads' argument for the scheduler to determine which is better. \n",
    "  \n",
    "The result below show that for this task the 'processes' option run faster in both wall and CPU time. \n",
    "\n",
    "|           | Processes | Threads |\n",
    "|-----------|-----------|---------|\n",
    "| Wall time | 4.66      | 19.7    |\n",
    "| CPU time  | 1.12      | 18.4    | \n",
    "\n",
    "\n",
    "<div style=\"text-align:center\">\n",
    "  <img src=\"images/CPUvsWorkers.png\" alt=\"Time vs number of workers\" style=\"max-width:70%; height:auto;\" />\n",
    "</div>\n",
    "\n",
    "There is a trend visible that with an increasing number of workers, the CPU time increases while the wall time decreases. A decrease in the wall time is typical for parallel computing as the task can be done simultaneously and not one after another. The increase in the CPU time can be explained by the fact that with the increasing number of workers, the total time they spent on the task increased. Might be bigger than in the case of one worker.  \n",
    "\n",
    "Similar operation for the best case of 6 workers was done for number of threads to see how the time changes:  \n",
    "\n",
    "<div style=\"text-align:center\">\n",
    "  <img src=\"images/CPUvsThreads.png\" alt=\"Time vs number of threads\" style=\"max-width:70%; height:auto;\" />\n",
    "</div>\n",
    "\n",
    "\n",
    "This shows that the best possible cobniation can wall time below 5 second and the CPU time around 1 second. The standard run of the game of life had both wall and CPU time of 14.5 seconds which shows that using dask is beneficial in this case.  \n",
    "\n",
    "Using the best combination the influence of number of chunks and their size was analyzed:\n",
    "\n",
    "<div style=\"text-align:center\">\n",
    "  <img src=\"images/CPUvsChunk.png\" alt=\"Time vs number of chunks\" style=\"max-width:70%; height:auto;\" />\n",
    "</div>\n",
    "\n",
    "For the chunk of size 500x500 the process was the fastest. Therefore this chunk size will be used to analyze performance of the bigger grid 10000x10000. Another interesting thing to observe that the chunk of size 1000x1000 which is the size of initial board run even slower than the normal run of the game.\n",
    "\n",
    "The size of the chunk also infulences the complexity of the task graph, see figure below\n",
    "\n",
    "<div style=\"display:flex; justify-content:center;\">\n",
    "  <img src=\"images/task50.png\" alt=\"Chunk 50\" style=\"width:33%;\" />\n",
    "  <img src=\"images/task100.png\" alt=\"Chunk 100\" style=\"width:33%;\" />\n",
    "  <img src=\"images/task500.png\" alt=\"Chunk 500\" style=\"width:33%;\" />\n",
    "</div>\n",
    "\n",
    "\n",
    "Below is the comparison of the dask dashboard for 100x100 chunks and 500x500 as can be expected the 500x500 chunks for one iteration will not use all of the 6 workers. Therefore the conlusion is to always match the size of the chunk, number of operation to the number of workers.  \n",
    "\n",
    "**100x100**\n",
    "<div style=\"text-align:center\">\n",
    "  <img src=\"images/status100.png\" alt=\"Status 100 chunks\" style=\"max-width:60%; height:auto;\" />\n",
    "</div>\n",
    "\n",
    "**500x500**\n",
    "<div style=\"text-align:center\">\n",
    "  <img src=\"images/status500.png\" alt=\"Status 500 chunks\" style=\"max-width:60%; height:auto;\" />\n",
    "</div>\n",
    "\n",
    "**Snakeviz**\n",
    "\n",
    "Without dask\n",
    "<div style=\"text-align:center\">\n",
    "  <img src=images/Agata_Images.jpeg alt=\"Status 500 chunks\" style=\"max-width:60%; height:auto;\" />\n",
    "</div>\n",
    "\n",
    "With dask for 100x100\n",
    "<div style=\"text-align:center\">\n",
    "  <img src=\"images/Agata_Image2.jpeg\" alt=\"Status 500 chunks\" style=\"max-width:60%; height:auto;\" />\n",
    "</div>\n",
    "\n",
    "\n",
    "From the SnakeViz visualization mentioned above, it's evident that the experiment without Dask took longer compared to the one with Dask. The Dask-assisted experiment completed in 17.1 seconds, while the non-Dask experiment took around 34.1 seconds, even though both had the same grid size of 1000x1000. One possible explanation for this difference is that Dask distributed tasks among multiple workers, enabling parallel processing and resulting in a shorter processing time compared to the non-Dask version. "
   ]
  },
  {
   "cell_type": "markdown",
   "id": "a66aaf9f-24ce-4455-855d-2c41b50659e5",
   "metadata": {},
   "source": [
    "**Grid 10000x10000**  \n",
    "\n",
    "It is immediately noticeable that the time it takes to read the grid is significantly longer. Additionally, the time it took to run Game of Life for one iteration was above 30 minutes. For running it using dask and settings derived from previous experiments, the CPU time was 5min 1s and wall time 9min 11s - which is a tremendously faster result.\n",
    "\n",
    "The on the dask dashboard, see below we can see that this time all the workers are used.\n",
    "\n",
    "<div style=\"text-align:center\">\n",
    "  <img src=\"images/status500big.png\" alt=\"Status big 500 chunks\" style=\"max-width:60%; height:auto;\" />\n",
    "</div>\n",
    "\n",
    "And the usage of the system looks as follows\n",
    "\n",
    "<div style=\"text-align:center\">\n",
    "  <img src=\"images/systemBig.png\" alt=\"Status 100 chunks\" style=\"max-width:60%; height:auto;\" />\n",
    "</div>\n",
    "\n",
    "The snakviz for this run:\n",
    "\n",
    "<div style=\"text-align:center\">\n",
    "  <img src=\"images/snakebig.png\" alt=\"Snakeviz\" style=\"max-width:60%; height:auto;\" />\n",
    "</div>"
   ]
  },
  {
   "cell_type": "markdown",
   "id": "a22d7b8e-1c3a-4390-9e49-cb7dd6ac4f9b",
   "metadata": {
    "tags": []
   },
   "source": [
    "## Additional experiments  \n",
    "As the topic of dask was relatively new for both of us, we also searched the internet for other possible solutions. Those scripts are stored in the Experiment folder as jupyter notebook, and their performance is analysed below. Lastly an alternative implementation of the game of life is presented. The alternative version uses convolve from Scipy to get the number of the cell's neighbours. The notebook is also in the experiment folder. Those findings are in the Experiments_Report file"
   ]
  },
  {
   "cell_type": "markdown",
   "id": "04253d9c-d606-4987-ad50-4544ff8e9358",
   "metadata": {},
   "source": [
    "## Apendix"
   ]
  },
  {
   "cell_type": "markdown",
   "id": "70c523a2-720f-4f5a-b308-9e3e38062118",
   "metadata": {},
   "source": [
    "Reading from the file"
   ]
  },
  {
   "cell_type": "code",
   "execution_count": null,
   "id": "e74b6d17-449e-4012-8597-49b5975c1fc1",
   "metadata": {},
   "outputs": [],
   "source": [
    "#argument chunk_size only for dask\n",
    "def read_input_file(input_file, chunk_size):\n",
    "    # initialize board\n",
    "    with open(input_file) as f:\n",
    "        w, h = [int(x) for x in next(f).split()]\n",
    "        # use the smallest data type\n",
    "        board = np.zeros((w, h),dtype=np.uint8)\n",
    "        for line_count, line in enumerate(f, start=0):\n",
    "            single_numbers = line.split()\n",
    "            x, y = map(int, single_numbers[:2])\n",
    "            board[x][y] = 1\n",
    "        #this line only for dask and return dask_board in that case\n",
    "        dask_board = da.from_array(board, chunks=(chunk_size, chunk_size))\n",
    "    return dask_board"
   ]
  },
  {
   "cell_type": "markdown",
   "id": "754e8baa-4378-49cd-bc01-2572f4652b5b",
   "metadata": {},
   "source": [
    "Writting to file"
   ]
  },
  {
   "cell_type": "code",
   "execution_count": null,
   "id": "23cde6e3-ba24-4366-8e70-c857f31c82c8",
   "metadata": {},
   "outputs": [],
   "source": [
    "def write_output_file(output, board):\n",
    "    w = board.shape[0]\n",
    "    h = board.shape[1]\n",
    "    live_cells = []\n",
    "    for r in range(w):\n",
    "        for c in range(h):\n",
    "            if board[r][c] == 1:\n",
    "                live_cells.append([r, c])\n",
    "    f = open(output, \"w\")\n",
    "    f.write(str(w)+ \" \"+ str(h)+\"\\n\")\n",
    "    for cell in live_cells:\n",
    "        f.write(str(cell[0])+ \" \"+ str(cell[1])+ \"\\n\")\n",
    "    f.close()"
   ]
  },
  {
   "cell_type": "markdown",
   "id": "9f177683-c9d2-47dc-83f0-025e91b33421",
   "metadata": {},
   "source": [
    "Reading the input"
   ]
  },
  {
   "cell_type": "code",
   "execution_count": null,
   "id": "b87704da-8a4f-4840-b609-7e92b2f11f5e",
   "metadata": {},
   "outputs": [],
   "source": [
    "def main():\n",
    "    try:\n",
    "        input_name = sys.argv[1]\n",
    "    except IndexError:\n",
    "        sys.exit(\"No output filename\")\n",
    "    try:\n",
    "        output_name= sys.argv[2]\n",
    "    except IndexError:\n",
    "        sys.exit(\"No output filename\")\n",
    "    try:\n",
    "        n = int (sys.argv[3])\n",
    "    except:\n",
    "        sys.exit(f\"Entered value is not a nuber {sys.argv[3]}\")\n",
    "    try:\n",
    "        chunk_size = int(sys.argv[4])\n",
    "    except:\n",
    "        sys.exit(f\"Entered value is not a nuber {sys.argv[4]}\") \n",
    "    \n",
    "    dask.config.set(scheduler='processes')\n",
    "    client = Client()   \n",
    "    board = read_input_file(input_name, chunk_size)\n",
    "    final_board = play_game(board, n)\n",
    "    write_output_file(output_name, final_board)\n",
    "    client.shutdown()"
   ]
  }
 ],
 "metadata": {
  "kernelspec": {
   "display_name": "Python 3 (ipykernel)",
   "language": "python",
   "name": "python3"
  },
  "language_info": {
   "codemirror_mode": {
    "name": "ipython",
    "version": 3
   },
   "file_extension": ".py",
   "mimetype": "text/x-python",
   "name": "python",
   "nbconvert_exporter": "python",
   "pygments_lexer": "ipython3",
   "version": "3.9.18"
  }
 },
 "nbformat": 4,
 "nbformat_minor": 5
}
