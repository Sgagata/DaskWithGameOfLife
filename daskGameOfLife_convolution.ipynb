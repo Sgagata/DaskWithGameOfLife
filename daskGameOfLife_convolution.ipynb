{
 "cells": [
  {
   "cell_type": "code",
   "execution_count": 1,
   "id": "a1d9df94-cefd-4412-bbeb-a9df0a479f2b",
   "metadata": {},
   "outputs": [],
   "source": [
    "import dask\n",
    "import matplotlib.pyplot as plt\n",
    "import numpy as np\n",
    "from dask.distributed import Client\n",
    "from dask import delayed\n",
    "import dask.multiprocessing\n",
    "import dask.array as da\n",
    "import time\n",
    "from scipy.ndimage import convolve"
   ]
  },
  {
   "cell_type": "code",
   "execution_count": 17,
   "id": "6569b5e8-c4be-4361-b3be-2082e1f9642d",
   "metadata": {},
   "outputs": [
    {
     "ename": "KeyboardInterrupt",
     "evalue": "",
     "output_type": "error",
     "traceback": [
      "\u001b[1;31m---------------------------------------------------------------------------\u001b[0m",
      "\u001b[1;31mKeyboardInterrupt\u001b[0m                         Traceback (most recent call last)",
      "Cell \u001b[1;32mIn[17], line 3\u001b[0m\n\u001b[0;32m      1\u001b[0m \u001b[38;5;66;03m# dask.config.set(scheduler='processes')\u001b[39;00m\n\u001b[0;32m      2\u001b[0m client \u001b[38;5;241m=\u001b[39m Client()\n\u001b[1;32m----> 3\u001b[0m client \u001b[38;5;241m=\u001b[39m \u001b[43mClient\u001b[49m\u001b[43m(\u001b[49m\u001b[43mn_workers\u001b[49m\u001b[38;5;241;43m=\u001b[39;49m\u001b[38;5;241;43m6\u001b[39;49m\u001b[43m,\u001b[49m\u001b[43m \u001b[49m\u001b[43mthreads_per_worker\u001b[49m\u001b[38;5;241;43m=\u001b[39;49m\u001b[38;5;241;43m3\u001b[39;49m\u001b[43m,\u001b[49m\u001b[43m \u001b[49m\u001b[43mprocesses\u001b[49m\u001b[38;5;241;43m=\u001b[39;49m\u001b[38;5;28;43;01mTrue\u001b[39;49;00m\u001b[43m,\u001b[49m\u001b[43m \u001b[49m\u001b[43mmemory_limit\u001b[49m\u001b[38;5;241;43m=\u001b[39;49m\u001b[38;5;124;43m'\u001b[39;49m\u001b[38;5;124;43m2.5GB\u001b[39;49m\u001b[38;5;124;43m'\u001b[39;49m\u001b[43m)\u001b[49m\n\u001b[0;32m      4\u001b[0m client\n",
      "File \u001b[1;32m~\\anaconda3\\lib\\site-packages\\distributed\\client.py:1021\u001b[0m, in \u001b[0;36mClient.__init__\u001b[1;34m(self, address, loop, timeout, set_as_default, scheduler_file, security, asynchronous, name, heartbeat_interval, serializers, deserializers, extensions, direct_to_workers, connection_limit, **kwargs)\u001b[0m\n\u001b[0;32m   1018\u001b[0m preload_argv \u001b[38;5;241m=\u001b[39m dask\u001b[38;5;241m.\u001b[39mconfig\u001b[38;5;241m.\u001b[39mget(\u001b[38;5;124m\"\u001b[39m\u001b[38;5;124mdistributed.client.preload-argv\u001b[39m\u001b[38;5;124m\"\u001b[39m)\n\u001b[0;32m   1019\u001b[0m \u001b[38;5;28mself\u001b[39m\u001b[38;5;241m.\u001b[39mpreloads \u001b[38;5;241m=\u001b[39m preloading\u001b[38;5;241m.\u001b[39mprocess_preloads(\u001b[38;5;28mself\u001b[39m, preload, preload_argv)\n\u001b[1;32m-> 1021\u001b[0m \u001b[38;5;28;43mself\u001b[39;49m\u001b[38;5;241;43m.\u001b[39;49m\u001b[43mstart\u001b[49m\u001b[43m(\u001b[49m\u001b[43mtimeout\u001b[49m\u001b[38;5;241;43m=\u001b[39;49m\u001b[43mtimeout\u001b[49m\u001b[43m)\u001b[49m\n\u001b[0;32m   1022\u001b[0m Client\u001b[38;5;241m.\u001b[39m_instances\u001b[38;5;241m.\u001b[39madd(\u001b[38;5;28mself\u001b[39m)\n\u001b[0;32m   1024\u001b[0m \u001b[38;5;28;01mfrom\u001b[39;00m \u001b[38;5;21;01mdistributed\u001b[39;00m\u001b[38;5;21;01m.\u001b[39;00m\u001b[38;5;21;01mrecreate_tasks\u001b[39;00m \u001b[38;5;28;01mimport\u001b[39;00m ReplayTaskClient\n",
      "File \u001b[1;32m~\\anaconda3\\lib\\site-packages\\distributed\\client.py:1219\u001b[0m, in \u001b[0;36mClient.start\u001b[1;34m(self, **kwargs)\u001b[0m\n\u001b[0;32m   1217\u001b[0m     \u001b[38;5;28mself\u001b[39m\u001b[38;5;241m.\u001b[39m_started \u001b[38;5;241m=\u001b[39m asyncio\u001b[38;5;241m.\u001b[39mensure_future(\u001b[38;5;28mself\u001b[39m\u001b[38;5;241m.\u001b[39m_start(\u001b[38;5;241m*\u001b[39m\u001b[38;5;241m*\u001b[39mkwargs))\n\u001b[0;32m   1218\u001b[0m \u001b[38;5;28;01melse\u001b[39;00m:\n\u001b[1;32m-> 1219\u001b[0m     sync(\u001b[38;5;28mself\u001b[39m\u001b[38;5;241m.\u001b[39mloop, \u001b[38;5;28mself\u001b[39m\u001b[38;5;241m.\u001b[39m_start, \u001b[38;5;241m*\u001b[39m\u001b[38;5;241m*\u001b[39mkwargs)\n",
      "File \u001b[1;32m~\\anaconda3\\lib\\site-packages\\distributed\\utils.py:414\u001b[0m, in \u001b[0;36msync\u001b[1;34m(loop, func, callback_timeout, *args, **kwargs)\u001b[0m\n\u001b[0;32m    412\u001b[0m \u001b[38;5;28;01melse\u001b[39;00m:\n\u001b[0;32m    413\u001b[0m     \u001b[38;5;28;01mwhile\u001b[39;00m \u001b[38;5;129;01mnot\u001b[39;00m e\u001b[38;5;241m.\u001b[39mis_set():\n\u001b[1;32m--> 414\u001b[0m         \u001b[43mwait\u001b[49m\u001b[43m(\u001b[49m\u001b[38;5;241;43m10\u001b[39;49m\u001b[43m)\u001b[49m\n\u001b[0;32m    416\u001b[0m \u001b[38;5;28;01mif\u001b[39;00m error:\n\u001b[0;32m    417\u001b[0m     typ, exc, tb \u001b[38;5;241m=\u001b[39m error\n",
      "File \u001b[1;32m~\\anaconda3\\lib\\site-packages\\distributed\\utils.py:403\u001b[0m, in \u001b[0;36msync.<locals>.wait\u001b[1;34m(timeout)\u001b[0m\n\u001b[0;32m    401\u001b[0m \u001b[38;5;28;01mdef\u001b[39;00m \u001b[38;5;21mwait\u001b[39m(timeout):\n\u001b[0;32m    402\u001b[0m     \u001b[38;5;28;01mtry\u001b[39;00m:\n\u001b[1;32m--> 403\u001b[0m         \u001b[38;5;28;01mreturn\u001b[39;00m \u001b[43me\u001b[49m\u001b[38;5;241;43m.\u001b[39;49m\u001b[43mwait\u001b[49m\u001b[43m(\u001b[49m\u001b[43mtimeout\u001b[49m\u001b[43m)\u001b[49m\n\u001b[0;32m    404\u001b[0m     \u001b[38;5;28;01mexcept\u001b[39;00m \u001b[38;5;167;01mKeyboardInterrupt\u001b[39;00m:\n\u001b[0;32m    405\u001b[0m         loop\u001b[38;5;241m.\u001b[39madd_callback(cancel)\n",
      "File \u001b[1;32m~\\anaconda3\\lib\\threading.py:581\u001b[0m, in \u001b[0;36mEvent.wait\u001b[1;34m(self, timeout)\u001b[0m\n\u001b[0;32m    579\u001b[0m signaled \u001b[38;5;241m=\u001b[39m \u001b[38;5;28mself\u001b[39m\u001b[38;5;241m.\u001b[39m_flag\n\u001b[0;32m    580\u001b[0m \u001b[38;5;28;01mif\u001b[39;00m \u001b[38;5;129;01mnot\u001b[39;00m signaled:\n\u001b[1;32m--> 581\u001b[0m     signaled \u001b[38;5;241m=\u001b[39m \u001b[38;5;28;43mself\u001b[39;49m\u001b[38;5;241;43m.\u001b[39;49m\u001b[43m_cond\u001b[49m\u001b[38;5;241;43m.\u001b[39;49m\u001b[43mwait\u001b[49m\u001b[43m(\u001b[49m\u001b[43mtimeout\u001b[49m\u001b[43m)\u001b[49m\n\u001b[0;32m    582\u001b[0m \u001b[38;5;28;01mreturn\u001b[39;00m signaled\n",
      "File \u001b[1;32m~\\anaconda3\\lib\\threading.py:316\u001b[0m, in \u001b[0;36mCondition.wait\u001b[1;34m(self, timeout)\u001b[0m\n\u001b[0;32m    314\u001b[0m \u001b[38;5;28;01melse\u001b[39;00m:\n\u001b[0;32m    315\u001b[0m     \u001b[38;5;28;01mif\u001b[39;00m timeout \u001b[38;5;241m>\u001b[39m \u001b[38;5;241m0\u001b[39m:\n\u001b[1;32m--> 316\u001b[0m         gotit \u001b[38;5;241m=\u001b[39m \u001b[43mwaiter\u001b[49m\u001b[38;5;241;43m.\u001b[39;49m\u001b[43macquire\u001b[49m\u001b[43m(\u001b[49m\u001b[38;5;28;43;01mTrue\u001b[39;49;00m\u001b[43m,\u001b[49m\u001b[43m \u001b[49m\u001b[43mtimeout\u001b[49m\u001b[43m)\u001b[49m\n\u001b[0;32m    317\u001b[0m     \u001b[38;5;28;01melse\u001b[39;00m:\n\u001b[0;32m    318\u001b[0m         gotit \u001b[38;5;241m=\u001b[39m waiter\u001b[38;5;241m.\u001b[39macquire(\u001b[38;5;28;01mFalse\u001b[39;00m)\n",
      "\u001b[1;31mKeyboardInterrupt\u001b[0m: "
     ]
    }
   ],
   "source": [
    "dask.config.set(scheduler='processes')\n",
    "client = Client()\n",
    "# client = Client(n_workers=6, threads_per_worker=3, processes=True, memory_limit='2.5GB')\n",
    "client\n"
   ]
  },
  {
   "cell_type": "code",
   "execution_count": 7,
   "id": "ee8cc2d3-a278-4172-8489-fb2f3e0e4e00",
   "metadata": {},
   "outputs": [],
   "source": [
    "def read_info_from_file(input_file):\n",
    "    # initialize board\n",
    "    with open(input_file) as f:\n",
    "        w, h = [int(x) for x in next(f).split()]\n",
    "        # use the smallest data type\n",
    "        board = np.zeros((w, h),dtype=np.uint8)\n",
    "        for line_count, line in enumerate(f, start=0):\n",
    "            single_numbers = line.split()\n",
    "            x, y = map(int, single_numbers[:2])\n",
    "            board[x][y] = 1\n",
    "        \n",
    "        #For dask\n",
    "        dask_board = da.from_array(board, chunks=(chunk_size, chunk_size))\n",
    "    return dask_board"
   ]
  },
  {
   "cell_type": "code",
   "execution_count": 8,
   "id": "9e0bdb56-b51f-4f35-83f1-a5f20c1ddfd2",
   "metadata": {},
   "outputs": [],
   "source": [
    "chunk_size = 100\n",
    "iterations = 1\n",
    "overlap = 1\n",
    "\n",
    "input_file = 'input_data/input.txt'\n",
    "#initialize \n",
    "board = read_info_from_file(input_file)\n",
    "# board.compute()\n",
    "mask = da.ones((3,3))\n",
    "#get rid from the middle\n",
    "mask[1, 1] = 0"
   ]
  },
  {
   "cell_type": "code",
   "execution_count": 11,
   "id": "17a2386c-8534-4238-8a5f-f27dbaaebf3c",
   "metadata": {},
   "outputs": [
    {
     "name": "stdout",
     "output_type": "stream",
     "text": [
      "[[0 0 0 ... 0 0 0]\n",
      " [0 0 1 ... 0 0 0]\n",
      " [0 0 0 ... 0 0 0]\n",
      " ...\n",
      " [0 0 0 ... 1 0 0]\n",
      " [0 0 0 ... 0 0 0]\n",
      " [0 0 0 ... 0 0 0]]\n"
     ]
    }
   ],
   "source": [
    "import warnings\n",
    "\n",
    "# Suppress Bokeh warnings\n",
    "warnings.filterwarnings('ignore', category=UserWarning)\n",
    "\n",
    "\n",
    "def process_cell(board_chunk, block_id=None):\n",
    "    width, height = board_chunk.shape\n",
    "    #based on the index of chunks\n",
    "    start_width = block_id[0] * width\n",
    "    start_height = block_id[1] * height\n",
    "    board_slice = board[start_width:(start_width + width), start_height:(start_height + height)].compute()\n",
    "\n",
    "    # Apply the rules of the game.\n",
    "    board_chunk[np.logical_or(board_chunk < 2, board_chunk > 3)] = 0\n",
    "    board_chunk[board_chunk == 3] = 1\n",
    "    # cell with two neighbours stay the same\n",
    "    board_chunk[board_chunk == 2] = board_slice[board_chunk == 2]\n",
    "    return board_chunk\n",
    "\n",
    "def prepare_next_board(steps, board, mask):\n",
    "    for _ in range(steps):\n",
    "        num_live_neighbors = board.map_overlap(convolve, depth=1, boundary='none', \n",
    "                                                    weights=mask, mode='constant', cval=0)\n",
    "        board = num_live_neighbors.map_blocks(process_cell, dtype=np.uint8)\n",
    "\n",
    "    return board\n",
    "\n",
    "\n",
    "final_board = prepare_next_board(iterations, board, mask)\n",
    "\n",
    "final_result = final_board.compute()\n",
    "print(final_result)"
   ]
  },
  {
   "cell_type": "markdown",
   "id": "e9692ccf-1ed1-47dd-9521-e1a441234a2e",
   "metadata": {},
   "source": [
    "Write to the text file"
   ]
  },
  {
   "cell_type": "code",
   "execution_count": null,
   "id": "6213a67f-cd0c-456d-8f5f-b7621ba103d2",
   "metadata": {},
   "outputs": [],
   "source": [
    "def write_output_file(output, board):\n",
    "    w = board.shape[0]\n",
    "    h = board.shape[1]\n",
    "    live_cells = []\n",
    "    for r in range(w):\n",
    "        for c in range(h):\n",
    "            if board[r][c] == 1:\n",
    "                live_cells.append([r, c])\n",
    "    f = open(output, \"w\")\n",
    "    f.write(str(w)+ \" \"+ str(h)+\"\\n\")\n",
    "    for cell in live_cells:\n",
    "        f.write(str(cell[0])+ \" \"+ str(cell[1])+ \"\\n\")\n",
    "    f.close()"
   ]
  },
  {
   "cell_type": "code",
   "execution_count": null,
   "id": "754aa321-4cc9-4c31-b032-ac46bb25451b",
   "metadata": {},
   "outputs": [],
   "source": [
    "output = input_file.split('/')[-1]\n",
    "write_output_file('output/' + output, final_result)"
   ]
  },
  {
   "cell_type": "code",
   "execution_count": 16,
   "id": "09f07574-f0eb-4ef3-bfe1-d24dcc0d4bf9",
   "metadata": {},
   "outputs": [],
   "source": [
    "client.shutdown()"
   ]
  }
 ],
 "metadata": {
  "kernelspec": {
   "display_name": "Python 3 (ipykernel)",
   "language": "python",
   "name": "python3"
  },
  "language_info": {
   "codemirror_mode": {
    "name": "ipython",
    "version": 3
   },
   "file_extension": ".py",
   "mimetype": "text/x-python",
   "name": "python",
   "nbconvert_exporter": "python",
   "pygments_lexer": "ipython3",
   "version": "3.9.18"
  }
 },
 "nbformat": 4,
 "nbformat_minor": 5
}
